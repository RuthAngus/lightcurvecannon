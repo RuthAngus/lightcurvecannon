{
 "cells": [
  {
   "cell_type": "markdown",
   "metadata": {},
   "source": [
    "Examine the psd files and compute iffts for them."
   ]
  },
  {
   "cell_type": "code",
   "execution_count": 56,
   "metadata": {
    "collapsed": true
   },
   "outputs": [],
   "source": [
    "import numpy as np\n",
    "import pandas as pd\n",
    "import matplotlib.pyplot as plt\n",
    "%matplotlib inline\n",
    "from astropy.io import fits\n",
    "\n",
    "plotpar = {'axes.labelsize': 18,\n",
    "           'font.size': 10,\n",
    "           'legend.fontsize': 18,\n",
    "           'xtick.labelsize': 18,\n",
    "           'ytick.labelsize': 18,\n",
    "           'text.usetex': True}\n",
    "plt.rcParams.update(plotpar)"
   ]
  },
  {
   "cell_type": "markdown",
   "metadata": {},
   "source": [
    "Load the first fits file."
   ]
  },
  {
   "cell_type": "code",
   "execution_count": 8,
   "metadata": {
    "collapsed": false
   },
   "outputs": [],
   "source": [
    "filename = \"data/weighted_power_spectra/kplr001430163_kasoc-wpsd_llc_v1.fits\""
   ]
  },
  {
   "cell_type": "code",
   "execution_count": 18,
   "metadata": {
    "collapsed": false
   },
   "outputs": [
    {
     "name": "stdout",
     "output_type": "stream",
     "text": [
      "Filename: data/weighted_power_spectra/kplr001430163_kasoc-wpsd_llc_v1.fits\n",
      "No.    Name      Ver    Type      Cards   Dimensions   Format\n",
      "  0  PRIMARY       1 PrimaryHDU      29   ()      \n",
      "  1  POWERSPECTRUM    1 BinTableHDU     19   28159R x 2C   [D, D]   \n"
     ]
    }
   ],
   "source": [
    "with fits.open(filename) as hdul:\n",
    "    hdul.info()\n",
    "    hdr = hdul[0].header\n",
    "    data = hdul[1].data"
   ]
  },
  {
   "cell_type": "code",
   "execution_count": 16,
   "metadata": {
    "collapsed": false
   },
   "outputs": [],
   "source": [
    "hdr;"
   ]
  },
  {
   "cell_type": "code",
   "execution_count": 31,
   "metadata": {
    "collapsed": false
   },
   "outputs": [],
   "source": [
    "freq, power = zip(*data)\n",
    "freq, power = np.array(freq), np.array(power)"
   ]
  },
  {
   "cell_type": "code",
   "execution_count": 34,
   "metadata": {
    "collapsed": false
   },
   "outputs": [
    {
     "data": {
      "text/plain": [
       "[<matplotlib.lines.Line2D at 0x109e2df98>]"
      ]
     },
     "execution_count": 34,
     "metadata": {},
     "output_type": "execute_result"
    },
    {
     "data": {
      "image/png": "[encoded data removed]",
      "text/plain": [
       "<matplotlib.figure.Figure at 0x10b3093c8>"
      ]
     },
     "metadata": {},
     "output_type": "display_data"
    }
   ],
   "source": [
    "plt.plot(freq, power)"
   ]
  },
  {
   "cell_type": "code",
   "execution_count": 35,
   "metadata": {
    "collapsed": true
   },
   "outputs": [],
   "source": [
    "s = np.fft.ifft(power)"
   ]
  },
  {
   "cell_type": "code",
   "execution_count": 36,
   "metadata": {
    "collapsed": false
   },
   "outputs": [
    {
     "data": {
      "text/plain": [
       "<matplotlib.legend.Legend at 0x10a544128>"
      ]
     },
     "execution_count": 36,
     "metadata": {},
     "output_type": "execute_result"
    },
    {
     "data": {
      "image/png": "[encoded data removed]",
      "text/plain": [
       "<matplotlib.figure.Figure at 0x109e1a630>"
      ]
     },
     "metadata": {},
     "output_type": "display_data"
    }
   ],
   "source": [
    "t = np.arange(len(power))\n",
    "plt.plot(t, s.real, 'b-', t, s.imag, 'r--')\n",
    "plt.legend(('real', 'imaginary'))"
   ]
  },
  {
   "cell_type": "markdown",
   "metadata": {},
   "source": [
    "Now load all the light curves and save the real part of the ifft."
   ]
  },
  {
   "cell_type": "code",
   "execution_count": 70,
   "metadata": {
    "collapsed": false
   },
   "outputs": [],
   "source": [
    "import glob\n",
    "df = pd.read_csv(\"training_labels.csv\")\n",
    "filenames_v1 = [\"data/weighted_power_spectra/kplr{0}_kasoc-wpsd_llc_v1.fits\".format(str(kepid).zfill(9)) \n",
    "               for kepid in df.kepid.values]\n",
    "filenames_v2 = [\"data/weighted_power_spectra/kplr{0}_kasoc-wpsd_llc_v2.fits\".format(str(kepid).zfill(9)) \n",
    "               for kepid in df.kepid.values]\n",
    "filenames_v3 = [\"data/weighted_power_spectra/kplr{0}_kasoc-wpsd_llc_v3.fits\".format(str(kepid).zfill(9)) \n",
    "               for kepid in df.kepid.values]"
   ]
  },
  {
   "cell_type": "code",
   "execution_count": 87,
   "metadata": {
    "collapsed": false
   },
   "outputs": [],
   "source": [
    "def extract_ifft_real(filename_v1, filename_v2, filename_v3):\n",
    "    try:\n",
    "        with fits.open(filename_v3) as hdul:\n",
    "            data = hdul[1].data\n",
    "            flag = 1\n",
    "    except FileNotFoundError:\n",
    "        try:\n",
    "            with fits.open(filename_v2) as hdul:\n",
    "                data = hdul[1].data\n",
    "                flag = 1\n",
    "        except FileNotFoundError:\n",
    "            try:\n",
    "                with fits.open(filename_v1) as hdul:\n",
    "                    data = hdul[1].data\n",
    "                    flag = 1\n",
    "            except FileNotFoundError:\n",
    "                print(\"File not found\", filename_v1, \"possibly only short cadence version available. Skipping\")\n",
    "                freq, power = np.arange(100), np.zeros(100)\n",
    "                data = zip(freq, power)\n",
    "                flag = 0\n",
    "\n",
    "    freq, power = zip(*data)\n",
    "    freq, power = np.array(freq), np.array(power)\n",
    "    s = np.fft.ifft(power)\n",
    "    return s.real, s.imag, flag"
   ]
  },
  {
   "cell_type": "code",
   "execution_count": 134,
   "metadata": {
    "collapsed": false
   },
   "outputs": [
    {
     "name": "stdout",
     "output_type": "stream",
     "text": [
      "0 of 525\n",
      "1 of 525\n",
      "2 of 525\n",
      "3 of 525\n",
      "4 of 525\n",
      "5 of 525\n",
      "6 of 525\n",
      "7 of 525\n",
      "8 of 525\n",
      "9 of 525\n",
      "10 of 525\n",
      "11 of 525\n",
      "File not found data/weighted_power_spectra/kplr003115178_kasoc-wpsd_llc_v1.fits possibly only short cadence version available. Skipping\n",
      "12 of 525\n",
      "File not found data/weighted_power_spectra/kplr003223000_kasoc-wpsd_llc_v1.fits possibly only short cadence version available. Skipping\n",
      "13 of 525\n",
      "14 of 525\n",
      "15 of 525\n",
      "16 of 525\n",
      "File not found data/weighted_power_spectra/kplr003427720_kasoc-wpsd_llc_v1.fits possibly only short cadence version available. Skipping\n",
      "17 of 525\n",
      "18 of 525\n",
      "19 of 525\n",
      "20 of 525\n",
      "21 of 525\n",
      "22 of 525\n",
      "23 of 525\n",
      "24 of 525\n",
      "25 of 525\n",
      "26 of 525\n",
      "27 of 525\n",
      "28 of 525\n",
      "29 of 525\n",
      "30 of 525\n",
      "31 of 525\n",
      "32 of 525\n",
      "33 of 525\n",
      "34 of 525\n",
      "35 of 525\n",
      "36 of 525\n",
      "37 of 525\n",
      "38 of 525\n",
      "39 of 525\n",
      "40 of 525\n",
      "41 of 525\n",
      "42 of 525\n",
      "43 of 525\n",
      "44 of 525\n",
      "45 of 525\n",
      "46 of 525\n",
      "47 of 525\n",
      "48 of 525\n",
      "49 of 525\n",
      "50 of 525\n",
      "51 of 525\n",
      "52 of 525\n",
      "53 of 525\n",
      "54 of 525\n",
      "55 of 525\n",
      "56 of 525\n",
      "57 of 525\n",
      "58 of 525\n",
      "59 of 525\n",
      "60 of 525\n",
      "61 of 525\n",
      "62 of 525\n",
      "63 of 525\n",
      "64 of 525\n",
      "65 of 525\n",
      "66 of 525\n",
      "67 of 525\n",
      "68 of 525\n",
      "69 of 525\n",
      "70 of 525\n",
      "71 of 525\n",
      "72 of 525\n",
      "73 of 525\n",
      "74 of 525\n",
      "75 of 525\n",
      "76 of 525\n",
      "77 of 525\n",
      "78 of 525\n",
      "79 of 525\n",
      "80 of 525\n",
      "81 of 525\n",
      "82 of 525\n",
      "83 of 525\n",
      "84 of 525\n",
      "85 of 525\n",
      "86 of 525\n",
      "87 of 525\n",
      "88 of 525\n",
      "89 of 525\n",
      "90 of 525\n",
      "91 of 525\n",
      "92 of 525\n",
      "93 of 525\n",
      "94 of 525\n",
      "95 of 525\n",
      "96 of 525\n",
      "97 of 525\n",
      "98 of 525\n",
      "File not found data/weighted_power_spectra/kplr005683538_kasoc-wpsd_llc_v1.fits possibly only short cadence version available. Skipping\n",
      "99 of 525\n",
      "File not found data/weighted_power_spectra/kplr005689219_kasoc-wpsd_llc_v1.fits possibly only short cadence version available. Skipping\n",
      "100 of 525\n",
      "101 of 525\n",
      "102 of 525\n",
      "103 of 525\n",
      "104 of 525\n",
      "105 of 525\n",
      "106 of 525\n",
      "107 of 525\n",
      "108 of 525\n",
      "109 of 525\n",
      "110 of 525\n",
      "111 of 525\n",
      "112 of 525\n",
      "File not found data/weighted_power_spectra/kplr006116048_kasoc-wpsd_llc_v1.fits possibly only short cadence version available. Skipping\n",
      "113 of 525\n",
      "114 of 525\n",
      "115 of 525\n",
      "116 of 525\n",
      "117 of 525\n",
      "118 of 525\n",
      "119 of 525\n",
      "File not found data/weighted_power_spectra/kplr006313425_kasoc-wpsd_llc_v1.fits possibly only short cadence version available. Skipping\n",
      "120 of 525\n",
      "121 of 525\n",
      "122 of 525\n",
      "123 of 525\n",
      "124 of 525\n",
      "125 of 525\n",
      "126 of 525\n",
      "127 of 525\n",
      "128 of 525\n",
      "129 of 525\n",
      "130 of 525\n",
      "131 of 525\n",
      "132 of 525\n",
      "133 of 525\n",
      "134 of 525\n",
      "135 of 525\n",
      "136 of 525\n",
      "137 of 525\n",
      "138 of 525\n",
      "139 of 525\n",
      "140 of 525\n",
      "141 of 525\n",
      "142 of 525\n",
      "143 of 525\n",
      "144 of 525\n",
      "145 of 525\n",
      "146 of 525\n",
      "147 of 525\n",
      "148 of 525\n",
      "File not found data/weighted_power_spectra/kplr007106245_kasoc-wpsd_llc_v1.fits possibly only short cadence version available. Skipping\n",
      "149 of 525\n",
      "150 of 525\n",
      "151 of 525\n",
      "152 of 525\n",
      "File not found data/weighted_power_spectra/kplr007174707_kasoc-wpsd_llc_v1.fits possibly only short cadence version available. Skipping\n",
      "153 of 525\n",
      "154 of 525\n",
      "155 of 525\n",
      "156 of 525\n",
      "157 of 525\n",
      "158 of 525\n",
      "159 of 525\n",
      "160 of 525\n",
      "161 of 525\n",
      "162 of 525\n",
      "163 of 525\n",
      "164 of 525\n",
      "File not found data/weighted_power_spectra/kplr007529180_kasoc-wpsd_llc_v1.fits possibly only short cadence version available. Skipping\n",
      "165 of 525\n",
      "166 of 525\n",
      "167 of 525\n",
      "168 of 525\n",
      "169 of 525\n",
      "File not found data/weighted_power_spectra/kplr007628676_kasoc-wpsd_llc_v1.fits possibly only short cadence version available. Skipping\n",
      "170 of 525\n",
      "File not found data/weighted_power_spectra/kplr007668623_kasoc-wpsd_llc_v1.fits possibly only short cadence version available. Skipping\n",
      "171 of 525\n",
      "172 of 525\n",
      "173 of 525\n",
      "174 of 525\n",
      "175 of 525\n",
      "176 of 525\n",
      "177 of 525\n",
      "178 of 525\n",
      "179 of 525\n",
      "File not found data/weighted_power_spectra/kplr007833440_kasoc-wpsd_llc_v1.fits possibly only short cadence version available. Skipping\n",
      "180 of 525\n",
      "181 of 525\n",
      "182 of 525\n",
      "183 of 525\n",
      "184 of 525\n",
      "185 of 525\n",
      "186 of 525\n",
      "187 of 525\n",
      "188 of 525\n",
      "189 of 525\n",
      "190 of 525\n",
      "191 of 525\n",
      "File not found data/weighted_power_spectra/kplr008027956_kasoc-wpsd_llc_v1.fits possibly only short cadence version available. Skipping\n",
      "192 of 525\n",
      "193 of 525\n",
      "File not found data/weighted_power_spectra/kplr008106950_kasoc-wpsd_llc_v1.fits possibly only short cadence version available. Skipping\n",
      "194 of 525\n",
      "195 of 525\n",
      "196 of 525\n",
      "File not found data/weighted_power_spectra/kplr008174981_kasoc-wpsd_llc_v1.fits possibly only short cadence version available. Skipping\n",
      "197 of 525\n",
      "File not found data/weighted_power_spectra/kplr008176564_kasoc-wpsd_llc_v1.fits possibly only short cadence version available. Skipping\n",
      "198 of 525\n",
      "199 of 525\n",
      "200 of 525\n",
      "File not found data/weighted_power_spectra/kplr008179973_kasoc-wpsd_llc_v1.fits possibly only short cadence version available. Skipping\n",
      "201 of 525\n",
      "202 of 525\n",
      "203 of 525\n",
      "File not found data/weighted_power_spectra/kplr008241455_kasoc-wpsd_llc_v1.fits possibly only short cadence version available. Skipping\n",
      "204 of 525\n",
      "File not found data/weighted_power_spectra/kplr008249189_kasoc-wpsd_llc_v1.fits possibly only short cadence version available. Skipping\n",
      "205 of 525\n",
      "206 of 525\n",
      "207 of 525\n",
      "208 of 525\n",
      "File not found data/weighted_power_spectra/kplr008360349_kasoc-wpsd_llc_v1.fits possibly only short cadence version available. Skipping\n",
      "209 of 525\n",
      "210 of 525\n",
      "211 of 525\n",
      "212 of 525\n",
      "213 of 525\n",
      "214 of 525\n",
      "215 of 525\n",
      "File not found data/weighted_power_spectra/kplr008493735_kasoc-wpsd_llc_v1.fits possibly only short cadence version available. Skipping\n",
      "216 of 525\n",
      "File not found data/weighted_power_spectra/kplr008493800_kasoc-wpsd_llc_v1.fits possibly only short cadence version available. Skipping\n",
      "217 of 525\n",
      "218 of 525\n",
      "219 of 525\n",
      "220 of 525\n",
      "221 of 525\n",
      "File not found data/weighted_power_spectra/kplr008621637_kasoc-wpsd_llc_v1.fits possibly only short cadence version available. Skipping\n",
      "222 of 525\n",
      "223 of 525\n",
      "224 of 525\n",
      "225 of 525\n",
      "226 of 525\n",
      "227 of 525\n",
      "228 of 525\n",
      "229 of 525\n",
      "230 of 525\n",
      "File not found data/weighted_power_spectra/kplr008817551_kasoc-wpsd_llc_v1.fits possibly only short cadence version available. Skipping\n",
      "231 of 525\n",
      "232 of 525\n",
      "233 of 525\n",
      "234 of 525\n",
      "File not found data/weighted_power_spectra/kplr008940939_kasoc-wpsd_llc_v1.fits possibly only short cadence version available. Skipping\n",
      "235 of 525\n",
      "File not found data/weighted_power_spectra/kplr008950146_kasoc-wpsd_llc_v1.fits possibly only short cadence version available. Skipping\n",
      "236 of 525\n",
      "237 of 525\n",
      "238 of 525\n",
      "239 of 525\n",
      "240 of 525\n",
      "241 of 525\n",
      "242 of 525\n",
      "243 of 525\n",
      "244 of 525\n",
      "245 of 525\n",
      "246 of 525\n",
      "247 of 525\n",
      "248 of 525\n",
      "249 of 525\n",
      "250 of 525\n",
      "251 of 525\n",
      "252 of 525\n",
      "253 of 525\n",
      "254 of 525\n",
      "255 of 525\n",
      "256 of 525\n",
      "257 of 525\n",
      "258 of 525\n",
      "259 of 525\n",
      "File not found data/weighted_power_spectra/kplr009206432_kasoc-wpsd_llc_v1.fits possibly only short cadence version available. Skipping\n",
      "260 of 525\n",
      "261 of 525\n",
      "262 of 525\n",
      "263 of 525\n",
      "264 of 525\n",
      "265 of 525\n",
      "266 of 525\n",
      "267 of 525\n",
      "268 of 525\n",
      "File not found data/weighted_power_spectra/kplr009353859_kasoc-wpsd_llc_v1.fits possibly only short cadence version available. Skipping\n",
      "269 of 525\n",
      "270 of 525\n",
      "271 of 525\n",
      "272 of 525\n",
      "273 of 525\n",
      "274 of 525\n",
      "275 of 525\n",
      "276 of 525\n",
      "277 of 525\n",
      "278 of 525\n",
      "279 of 525\n",
      "280 of 525\n",
      "281 of 525\n",
      "282 of 525\n",
      "283 of 525\n",
      "284 of 525\n",
      "285 of 525\n",
      "286 of 525\n",
      "287 of 525\n",
      "288 of 525\n",
      "289 of 525\n",
      "290 of 525\n",
      "291 of 525\n",
      "292 of 525\n",
      "293 of 525\n",
      "294 of 525\n",
      "295 of 525\n",
      "296 of 525\n",
      "297 of 525\n",
      "298 of 525\n",
      "File not found data/weighted_power_spectra/kplr009812421_kasoc-wpsd_llc_v1.fits possibly only short cadence version available. Skipping\n",
      "299 of 525\n",
      "300 of 525\n",
      "301 of 525\n",
      "302 of 525\n",
      "303 of 525\n",
      "304 of 525\n",
      "File not found data/weighted_power_spectra/kplr009908400_kasoc-wpsd_llc_v1.fits possibly only short cadence version available. Skipping\n",
      "305 of 525\n",
      "306 of 525\n",
      "307 of 525\n",
      "File not found data/weighted_power_spectra/kplr009965715_kasoc-wpsd_llc_v1.fits possibly only short cadence version available. Skipping\n",
      "308 of 525\n",
      "309 of 525\n",
      "310 of 525\n",
      "311 of 525\n",
      "312 of 525\n",
      "313 of 525\n",
      "314 of 525\n",
      "315 of 525\n",
      "File not found data/weighted_power_spectra/kplr010074716_kasoc-wpsd_llc_v1.fits possibly only short cadence version available. Skipping\n",
      "316 of 525\n",
      "317 of 525\n",
      "318 of 525\n",
      "319 of 525\n",
      "320 of 525\n",
      "321 of 525\n",
      "322 of 525\n",
      "323 of 525\n",
      "324 of 525\n",
      "325 of 525\n",
      "326 of 525\n",
      "327 of 525\n",
      "328 of 525\n",
      "File not found data/weighted_power_spectra/kplr010272923_kasoc-wpsd_llc_v1.fits possibly only short cadence version available. Skipping\n",
      "329 of 525\n",
      "File not found data/weighted_power_spectra/kplr010273246_kasoc-wpsd_llc_v1.fits possibly only short cadence version available. Skipping\n",
      "330 of 525\n",
      "File not found data/weighted_power_spectra/kplr010295224_kasoc-wpsd_llc_v1.fits possibly only short cadence version available. Skipping\n",
      "331 of 525\n",
      "332 of 525\n",
      "333 of 525\n",
      "334 of 525\n",
      "335 of 525\n",
      "336 of 525\n",
      "File not found data/weighted_power_spectra/kplr010385708_kasoc-wpsd_llc_v1.fits possibly only short cadence version available. Skipping\n",
      "337 of 525\n",
      "338 of 525\n",
      "339 of 525\n",
      "340 of 525\n",
      "341 of 525\n",
      "342 of 525\n",
      "343 of 525\n",
      "344 of 525\n",
      "File not found data/weighted_power_spectra/kplr010593351_kasoc-wpsd_llc_v1.fits possibly only short cadence version available. Skipping\n",
      "345 of 525\n",
      "File not found data/weighted_power_spectra/kplr010610027_kasoc-wpsd_llc_v1.fits possibly only short cadence version available. Skipping\n",
      "346 of 525\n",
      "347 of 525\n",
      "348 of 525\n",
      "349 of 525\n",
      "350 of 525\n",
      "351 of 525\n",
      "352 of 525\n",
      "File not found data/weighted_power_spectra/kplr010730618_kasoc-wpsd_llc_v1.fits possibly only short cadence version available. Skipping\n",
      "353 of 525\n",
      "File not found data/weighted_power_spectra/kplr010731424_kasoc-wpsd_llc_v1.fits possibly only short cadence version available. Skipping\n",
      "354 of 525\n",
      "File not found data/weighted_power_spectra/kplr010732098_kasoc-wpsd_llc_v1.fits possibly only short cadence version available. Skipping\n",
      "355 of 525\n",
      "356 of 525\n",
      "357 of 525\n",
      "358 of 525\n",
      "359 of 525\n",
      "360 of 525\n",
      "361 of 525\n",
      "362 of 525\n",
      "363 of 525\n",
      "364 of 525\n",
      "365 of 525\n",
      "366 of 525\n",
      "367 of 525\n",
      "368 of 525\n",
      "369 of 525\n",
      "370 of 525\n",
      "371 of 525\n",
      "372 of 525\n",
      "373 of 525\n",
      "374 of 525\n",
      "375 of 525\n",
      "376 of 525\n",
      "377 of 525\n",
      "378 of 525\n",
      "379 of 525\n",
      "380 of 525\n",
      "381 of 525\n",
      "382 of 525\n",
      "383 of 525\n",
      "384 of 525\n",
      "385 of 525\n",
      "File not found data/weighted_power_spectra/kplr011395018_kasoc-wpsd_llc_v1.fits possibly only short cadence version available. Skipping\n",
      "386 of 525\n",
      "387 of 525\n",
      "388 of 525\n",
      "389 of 525\n",
      "390 of 525\n",
      "391 of 525\n",
      "392 of 525\n",
      "393 of 525\n",
      "394 of 525\n",
      "395 of 525\n",
      "396 of 525\n",
      "397 of 525\n",
      "398 of 525\n",
      "399 of 525\n",
      "400 of 525\n",
      "401 of 525\n",
      "402 of 525\n",
      "403 of 525\n",
      "404 of 525\n",
      "File not found data/weighted_power_spectra/kplr011772920_kasoc-wpsd_llc_v1.fits possibly only short cadence version available. Skipping\n",
      "405 of 525\n",
      "406 of 525\n",
      "407 of 525\n",
      "408 of 525\n",
      "409 of 525\n",
      "410 of 525\n",
      "411 of 525\n",
      "412 of 525\n",
      "413 of 525\n",
      "414 of 525\n",
      "415 of 525\n",
      "416 of 525\n",
      "417 of 525\n",
      "418 of 525\n",
      "419 of 525\n",
      "420 of 525\n",
      "421 of 525\n",
      "422 of 525\n",
      "423 of 525\n",
      "424 of 525\n",
      "425 of 525\n",
      "426 of 525\n",
      "427 of 525\n",
      "428 of 525\n",
      "429 of 525\n",
      "430 of 525\n",
      "431 of 525\n",
      "File not found data/weighted_power_spectra/kplr005184732_kasoc-wpsd_llc_v1.fits possibly only short cadence version available. Skipping\n",
      "432 of 525\n",
      "433 of 525\n",
      "434 of 525\n",
      "435 of 525\n",
      "436 of 525\n",
      "437 of 525\n",
      "438 of 525\n",
      "439 of 525\n",
      "File not found data/weighted_power_spectra/kplr005939450_kasoc-wpsd_llc_v1.fits possibly only short cadence version available. Skipping\n",
      "440 of 525\n",
      "441 of 525\n",
      "File not found data/weighted_power_spectra/kplr006106120_kasoc-wpsd_llc_v1.fits possibly only short cadence version available. Skipping\n",
      "442 of 525\n",
      "443 of 525\n",
      "444 of 525\n",
      "445 of 525\n",
      "446 of 525\n",
      "File not found data/weighted_power_spectra/kplr006421967_kasoc-wpsd_llc_v1.fits possibly only short cadence version available. Skipping\n",
      "447 of 525\n",
      "448 of 525\n",
      "449 of 525\n",
      "450 of 525\n",
      "451 of 525\n",
      "452 of 525\n",
      "453 of 525\n",
      "454 of 525\n",
      "455 of 525\n",
      "456 of 525\n",
      "457 of 525\n",
      "458 of 525\n",
      "459 of 525\n",
      "460 of 525\n",
      "File not found data/weighted_power_spectra/kplr007970740_kasoc-wpsd_llc_v1.fits possibly only short cadence version available. Skipping\n",
      "461 of 525\n",
      "462 of 525\n",
      "463 of 525\n",
      "File not found data/weighted_power_spectra/kplr008174170_kasoc-wpsd_llc_v1.fits possibly only short cadence version available. Skipping\n",
      "464 of 525\n",
      "465 of 525\n",
      "466 of 525\n",
      "467 of 525\n",
      "468 of 525\n",
      "469 of 525\n",
      "File not found data/weighted_power_spectra/kplr008491374_kasoc-wpsd_llc_v1.fits possibly only short cadence version available. Skipping\n",
      "470 of 525\n",
      "471 of 525\n",
      "472 of 525\n",
      "File not found data/weighted_power_spectra/kplr008547279_kasoc-wpsd_llc_v1.fits possibly only short cadence version available. Skipping\n",
      "473 of 525\n",
      "474 of 525\n",
      "475 of 525\n",
      "File not found data/weighted_power_spectra/kplr008981766_kasoc-wpsd_llc_v1.fits possibly only short cadence version available. Skipping\n",
      "476 of 525\n",
      "477 of 525\n",
      "478 of 525\n",
      "File not found data/weighted_power_spectra/kplr009335972_kasoc-wpsd_llc_v1.fits possibly only short cadence version available. Skipping\n",
      "479 of 525\n",
      "480 of 525\n",
      "481 of 525\n",
      "482 of 525\n",
      "483 of 525\n",
      "484 of 525\n",
      "485 of 525\n",
      "486 of 525\n",
      "487 of 525\n",
      "488 of 525\n",
      "489 of 525\n",
      "490 of 525\n",
      "491 of 525\n",
      "492 of 525\n",
      "File not found data/weighted_power_spectra/kplr010990438_kasoc-wpsd_llc_v1.fits possibly only short cadence version available. Skipping\n",
      "493 of 525\n",
      "494 of 525\n",
      "File not found data/weighted_power_spectra/kplr011098033_kasoc-wpsd_llc_v1.fits possibly only short cadence version available. Skipping\n",
      "495 of 525\n",
      "496 of 525\n",
      "497 of 525\n",
      "498 of 525\n",
      "499 of 525\n",
      "500 of 525\n",
      "501 of 525\n",
      "502 of 525\n",
      "503 of 525\n",
      "504 of 525\n",
      "505 of 525\n",
      "506 of 525\n",
      "507 of 525\n",
      "508 of 525\n",
      "509 of 525\n",
      "510 of 525\n",
      "511 of 525\n",
      "512 of 525\n",
      "513 of 525\n",
      "514 of 525\n",
      "515 of 525\n",
      "516 of 525\n",
      "517 of 525\n",
      "518 of 525\n",
      "519 of 525\n",
      "520 of 525\n",
      "521 of 525\n",
      "522 of 525\n",
      "523 of 525\n",
      "524 of 525\n"
     ]
    }
   ],
   "source": [
    "import os\n",
    "reals, flags = [], []\n",
    "N = 200\n",
    "for i, filename_v1 in enumerate(filenames_v1):\n",
    "    print(i, \"of\", len(filenames_v1))\n",
    "    \n",
    "    ifft_file_name = \"data/ifft_real/{}_ifft.csv\".format(df.kepid.values[i])\n",
    "    if os.path.exists(ifft_file_name):\n",
    "        ifft_df = pd.read_csv(ifft_file_name)\n",
    "        real, imag = ifft_df.real, ifft_df.imag\n",
    "    \n",
    "    else:\n",
    "        real, imag, flag = extract_ifft_real(filename_v1, filenames_v2[i], filenames_v3[i])\n",
    "        ifft = pd.DataFrame(dict({\"real\": real, \"imag\": imag}))\n",
    "        ifft.to_csv(ifft_file_name)\n",
    "        \n",
    "    reals.append(np.abs(real))\n",
    "    flags.append(flag)"
   ]
  },
  {
   "cell_type": "code",
   "execution_count": 125,
   "metadata": {
    "collapsed": false
   },
   "outputs": [],
   "source": [
    "pixel1 = np.array([reals[i][0] for i in range(N)])\n",
    "m = flag > 0"
   ]
  },
  {
   "cell_type": "code",
   "execution_count": 131,
   "metadata": {
    "collapsed": false
   },
   "outputs": [
    {
     "data": {
      "text/plain": [
       "525"
      ]
     },
     "execution_count": 131,
     "metadata": {},
     "output_type": "execute_result"
    }
   ],
   "source": [
    "len(filenames_v1)"
   ]
  },
  {
   "cell_type": "code",
   "execution_count": 128,
   "metadata": {
    "collapsed": false
   },
   "outputs": [
    {
     "name": "stderr",
     "output_type": "stream",
     "text": [
      "/Users/ruthangus/anaconda/lib/python3.5/site-packages/ipykernel/__main__.py:1: RuntimeWarning: divide by zero encountered in log10\n",
      "  if __name__ == '__main__':\n"
     ]
    },
    {
     "data": {
      "image/png": "[encoded data removed]",
      "text/plain": [
       "<matplotlib.figure.Figure at 0x118d39898>"
      ]
     },
     "metadata": {},
     "output_type": "display_data"
    }
   ],
   "source": [
    "plt.plot(df.teff.values[:N][m][0], np.log10(pixel1[m][0]), \".\")\n",
    "plt.xlim(4500, 7000)\n",
    "plt.xlabel(\"$T_{\\mathrm{eff}}~[K]$\")\n",
    "plt.ylabel(\"$\\log_{10}(\\mathrm{Pixel~\\#1})$\")\n",
    "plt.subplots_adjust(bottom=.15)\n",
    "plt.savefig(\"pixel1_teff\")"
   ]
  },
  {
   "cell_type": "code",
   "execution_count": 129,
   "metadata": {
    "collapsed": false
   },
   "outputs": [
    {
     "name": "stderr",
     "output_type": "stream",
     "text": [
      "/Users/ruthangus/anaconda/lib/python3.5/site-packages/ipykernel/__main__.py:1: RuntimeWarning: divide by zero encountered in log\n",
      "  if __name__ == '__main__':\n"
     ]
    },
    {
     "data": {
      "image/png": "[encoded data removed]",
      "text/plain": [
       "<matplotlib.figure.Figure at 0x10bdca7b8>"
      ]
     },
     "metadata": {},
     "output_type": "display_data"
    }
   ],
   "source": [
    "plt.plot(df.logg.values[:N][m][0], np.log(pixel1[m][0]), \".\")\n",
    "plt.xlabel(\"$\\log(g)$\")\n",
    "plt.ylabel(\"$\\log_{10}(\\mathrm{Pixel~\\#1})$\")\n",
    "plt.subplots_adjust(bottom=.15)\n",
    "plt.savefig(\"pixel1_logg\")"
   ]
  },
  {
   "cell_type": "code",
   "execution_count": 130,
   "metadata": {
    "collapsed": false
   },
   "outputs": [
    {
     "name": "stderr",
     "output_type": "stream",
     "text": [
      "/Users/ruthangus/anaconda/lib/python3.5/site-packages/ipykernel/__main__.py:1: RuntimeWarning: divide by zero encountered in log\n",
      "  if __name__ == '__main__':\n"
     ]
    },
    {
     "data": {
      "image/png": "[encoded data removed]",
      "text/plain": [
       "<matplotlib.figure.Figure at 0x10bdeb6d8>"
      ]
     },
     "metadata": {},
     "output_type": "display_data"
    }
   ],
   "source": [
    "plt.plot(df.age.values[:N][m][0], np.log(pixel1[m][0]), \".\")\n",
    "plt.xlabel(\"$\\mathrm{Age~[Gyr]}$\")\n",
    "plt.ylabel(\"$\\log_{10}(\\mathrm{Pixel~\\#1})$\")\n",
    "plt.subplots_adjust(bottom=.15)\n",
    "plt.savefig(\"pixel1_age\")"
   ]
  },
  {
   "cell_type": "code",
   "execution_count": null,
   "metadata": {
    "collapsed": true
   },
   "outputs": [],
   "source": []
  }
 ],
 "metadata": {
  "anaconda-cloud": {},
  "kernelspec": {
   "display_name": "Python [conda root]",
   "language": "python",
   "name": "conda-root-py"
  },
  "language_info": {
   "codemirror_mode": {
    "name": "ipython",
    "version": 3
   },
   "file_extension": ".py",
   "mimetype": "text/x-python",
   "name": "python",
   "nbconvert_exporter": "python",
   "pygments_lexer": "ipython3",
   "version": "3.5.2"
  }
 },
 "nbformat": 4,
 "nbformat_minor": 1
}
