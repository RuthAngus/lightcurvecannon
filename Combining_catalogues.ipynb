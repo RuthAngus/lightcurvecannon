{
 "cells": [
  {
   "cell_type": "markdown",
   "metadata": {},
   "source": [
    "Combine the APOKASC sample with the Bruntt sample from Chaplin 2014 and the precise sample in Silva-Aguirre (2016).\n",
    "\n",
    "APOKASC: https://arxiv.org/abs/1710.06858\n",
    "\n",
    "apokasc_table3.txt: Seismic properties of the APOKASC dwarfs sample\n",
    "\n",
    "apokasc_table4.txt: Stellar fundamental parameters based on the SDSS Teff scale\n",
    "\n",
    "apokasc_table5.txt: Stellar fundamental parameters based on the ASPCAP Teff scale"
   ]
  },
  {
   "cell_type": "code",
   "execution_count": 1,
   "metadata": {
    "collapsed": true
   },
   "outputs": [],
   "source": [
    "import numpy as np\n",
    "import pandas as pd\n",
    "import matplotlib.pyplot as plt\n",
    "%matplotlib inline"
   ]
  },
  {
   "cell_type": "markdown",
   "metadata": {},
   "source": [
    "Compare the values from Bruntt in Chaplin with the values from the APOKASC."
   ]
  },
  {
   "cell_type": "markdown",
   "metadata": {},
   "source": [
    "Update Chaplin table with Bruntt table."
   ]
  },
  {
   "cell_type": "code",
   "execution_count": 2,
   "metadata": {
    "collapsed": false
   },
   "outputs": [
    {
     "data": {
      "text/plain": [
       "Index(['kepid', 'mass', 'mass_errm', 'mass_errp', 'radius', 'radius_errp',\n",
       "       'radius_errm', 'rho', 'rho_errp', 'rho_errm', 'logg', 'logg_errp',\n",
       "       'logg_errm', 'age', 'age_errp', 'age_errm', 'numax', 'numax_err', 'dnu',\n",
       "       'dnu_err', 'bruntt_teff', 'bruntt_teff_err', 'feh', 'feh_err'],\n",
       "      dtype='object')"
      ]
     },
     "execution_count": 2,
     "metadata": {},
     "output_type": "execute_result"
    }
   ],
   "source": [
    "chaplin_params = pd.read_csv(\"data/table4_stellar_sdss.csv\")\n",
    "chaplin_obs = pd.read_csv(\"data/table1_seismic.csv\")\n",
    "chaplin = pd.merge(chaplin_params, chaplin_obs, on=\"kepid\")\n",
    "chaplin[\"teff\"] = chaplin.sdss_teff\n",
    "chaplin[\"teff_err\"] = chaplin.sdss_teff_err\n",
    "bruntt_params = pd.read_csv(\"data/table6_stellar_bruntt.csv\")\n",
    "bruntt_obs = pd.read_csv(\"data/table2_seismic_bruntt.csv\")\n",
    "bruntt = pd.merge(bruntt_params, bruntt_obs, on=\"kepid\")\n",
    "bruntt.keys()"
   ]
  },
  {
   "cell_type": "code",
   "execution_count": 3,
   "metadata": {
    "collapsed": false
   },
   "outputs": [
    {
     "name": "stdout",
     "output_type": "stream",
     "text": [
      "0 of 87\n"
     ]
    },
    {
     "name": "stderr",
     "output_type": "stream",
     "text": [
      "/Users/ruthangus/anaconda/lib/python3.5/site-packages/pandas/core/indexing.py:194: SettingWithCopyWarning: \n",
      "A value is trying to be set on a copy of a slice from a DataFrame\n",
      "\n",
      "See the caveats in the documentation: http://pandas.pydata.org/pandas-docs/stable/indexing.html#indexing-view-versus-copy\n",
      "  self._setitem_with_indexer(indexer, value)\n"
     ]
    },
    {
     "name": "stdout",
     "output_type": "stream",
     "text": [
      "1 of 87\n",
      "2 of 87\n",
      "3 of 87\n",
      "4 of 87\n",
      "5 of 87\n",
      "6 of 87\n",
      "7 of 87\n",
      "8 of 87\n",
      "9 of 87\n",
      "10 of 87\n",
      "11 of 87\n",
      "12 of 87\n",
      "13 of 87\n",
      "14 of 87\n",
      "15 of 87\n",
      "16 of 87\n",
      "17 of 87\n",
      "18 of 87\n",
      "19 of 87\n",
      "20 of 87\n",
      "21 of 87\n",
      "22 of 87\n",
      "23 of 87\n",
      "24 of 87\n",
      "25 of 87\n",
      "26 of 87\n",
      "27 of 87\n",
      "28 of 87\n",
      "29 of 87\n",
      "30 of 87\n",
      "31 of 87\n",
      "32 of 87\n",
      "33 of 87\n",
      "34 of 87\n",
      "35 of 87\n",
      "36 of 87\n",
      "37 of 87\n",
      "38 of 87\n",
      "39 of 87\n",
      "40 of 87\n",
      "41 of 87\n",
      "42 of 87\n",
      "43 of 87\n",
      "44 of 87\n",
      "45 of 87\n",
      "46 of 87\n",
      "47 of 87\n",
      "48 of 87\n",
      "49 of 87\n",
      "50 of 87\n",
      "51 of 87\n",
      "52 of 87\n",
      "53 of 87\n",
      "54 of 87\n",
      "55 of 87\n",
      "56 of 87\n",
      "57 of 87\n",
      "58 of 87\n",
      "59 of 87\n",
      "60 of 87\n",
      "61 of 87\n",
      "62 of 87\n",
      "63 of 87\n",
      "64 of 87\n",
      "65 of 87\n",
      "66 of 87\n",
      "67 of 87\n",
      "68 of 87\n",
      "69 of 87\n",
      "70 of 87\n",
      "71 of 87\n",
      "72 of 87\n",
      "73 of 87\n",
      "74 of 87\n",
      "75 of 87\n",
      "76 of 87\n",
      "77 of 87\n",
      "78 of 87\n",
      "79 of 87\n",
      "80 of 87\n",
      "81 of 87\n",
      "82 of 87\n",
      "83 of 87\n",
      "84 of 87\n",
      "85 of 87\n",
      "86 of 87\n"
     ]
    }
   ],
   "source": [
    "nstar = len(chaplin.kepid.values)\n",
    "chaplin[\"bruntt_teff\"] = np.ones(nstar)*np.nan\n",
    "chaplin[\"bruntt_teff_err\"] = np.ones(nstar)*np.nan\n",
    "bruntt[\"teff\"] = bruntt.bruntt_teff\n",
    "bruntt[\"teff_err\"] = bruntt.bruntt_teff_err\n",
    " \n",
    "for i, kepid in enumerate(bruntt.kepid.values):\n",
    "    m = kepid == chaplin.kepid.values\n",
    "    print(i, \"of\", len(bruntt.kepid.values))\n",
    "    for key in bruntt.keys():\n",
    "        chaplin[\"{}\".format(key)].iloc[m] = bruntt[\"{}\".format(key)].iloc[i]"
   ]
  },
  {
   "cell_type": "code",
   "execution_count": 4,
   "metadata": {
    "collapsed": false
   },
   "outputs": [
    {
     "data": {
      "text/plain": [
       "Index(['kepid', 'mass', 'mass_errp', 'mass_errm', 'radius', 'radius_errp',\n",
       "       'radius_errm', 'rho', 'rho_errp', 'rho_errm', 'logg', 'logg_errp',\n",
       "       'logg_errm', 'age', 'age_errp', 'age_errm', 'numax', 'numax_err', 'dnu',\n",
       "       'dnu_err', 'sdss_teff', 'sdss_teff_err', 'irfm_teff', 'irfm_teff_err',\n",
       "       'feh', 'feh_err', 'teff', 'teff_err', 'bruntt_teff', 'bruntt_teff_err'],\n",
       "      dtype='object')"
      ]
     },
     "execution_count": 4,
     "metadata": {},
     "output_type": "execute_result"
    }
   ],
   "source": [
    "chaplin.keys()"
   ]
  },
  {
   "cell_type": "code",
   "execution_count": 5,
   "metadata": {
    "collapsed": false
   },
   "outputs": [
    {
     "data": {
      "text/plain": [
       "(4500, 7500)"
      ]
     },
     "execution_count": 5,
     "metadata": {},
     "output_type": "execute_result"
    },
    {
     "data": {
      "image/png": "[encoded data removed]",
      "text/plain": [
       "<matplotlib.figure.Figure at 0x107ef15c0>"
      ]
     },
     "metadata": {},
     "output_type": "display_data"
    }
   ],
   "source": [
    "plt.plot(chaplin.sdss_teff, chaplin.bruntt_teff, \".\")\n",
    "plt.xlim(4500, 7500)"
   ]
  },
  {
   "cell_type": "markdown",
   "metadata": {},
   "source": [
    "Update Chaplin table with Silva-Aguirre table"
   ]
  },
  {
   "cell_type": "code",
   "execution_count": 6,
   "metadata": {
    "collapsed": false
   },
   "outputs": [
    {
     "data": {
      "text/plain": [
       "Index(['Pipe', 'kepid', 'mass', 'mass_errp', 'mass_errm', 'radius',\n",
       "       'radius_errp', 'radius_errm', 'logg', 'logg_errp', 'logg_errm', 'age',\n",
       "       'age_errp', 'age_errm', 'lum', 'lum_errp', 'lum_errm', 'rho',\n",
       "       'rho_errp', 'rho_errm', 'dist', 'dist_errp', 'dist_errm', 'Xini',\n",
       "       'Yini', 'Xsup', 'Ysup', 'Xcen', 'Ycen', 'MCcore', 'Rbce', 'alpha',\n",
       "       'TAMS', 'numax', 'numax_errp', 'numax_errm', 'dnu', 'dnu_errp',\n",
       "       'dnu_errm', 'teff', 'teff_err', 'feh', 'feh_err', 'Ref', 'PapI', 'KCat',\n",
       "       'Simbad', '_RA', '_DE', 'dnu_err', 'numax_err'],\n",
       "      dtype='object')"
      ]
     },
     "execution_count": 6,
     "metadata": {},
     "output_type": "execute_result"
    }
   ],
   "source": [
    "sa_params = pd.read_csv(\"data/silva-aguirre_table4.tsv\", skiprows=91)\n",
    "m = sa_params.Pipe.values == \"AST\"\n",
    "sa_params = sa_params.iloc[m]\n",
    "sa_obs = pd.read_csv(\"data/silva-aguirre_table3.tsv\", skiprows=67)\n",
    "sa = pd.merge(sa_params, sa_obs, on=\"kepid\")\n",
    "sa[\"dnu_err\"] = .5*(sa.dnu_errp.values + sa.dnu_errm.values)\n",
    "sa[\"numax_err\"] = .5*(sa.numax_errp.values + sa.numax_errm.values)\n",
    "sa.keys()"
   ]
  },
  {
   "cell_type": "code",
   "execution_count": 7,
   "metadata": {
    "collapsed": false
   },
   "outputs": [
    {
     "data": {
      "text/plain": [
       "Index(['kepid', 'mass', 'mass_errp', 'mass_errm', 'radius', 'radius_errp',\n",
       "       'radius_errm', 'rho', 'rho_errp', 'rho_errm', 'logg', 'logg_errp',\n",
       "       'logg_errm', 'age', 'age_errp', 'age_errm', 'numax', 'numax_err', 'dnu',\n",
       "       'dnu_err', 'sdss_teff', 'sdss_teff_err', 'irfm_teff', 'irfm_teff_err',\n",
       "       'feh', 'feh_err', 'teff', 'teff_err', 'bruntt_teff', 'bruntt_teff_err'],\n",
       "      dtype='object')"
      ]
     },
     "execution_count": 7,
     "metadata": {},
     "output_type": "execute_result"
    }
   ],
   "source": [
    "chaplin.keys()"
   ]
  },
  {
   "cell_type": "code",
   "execution_count": 8,
   "metadata": {
    "collapsed": false
   },
   "outputs": [
    {
     "name": "stdout",
     "output_type": "stream",
     "text": [
      "0 of 66\n"
     ]
    },
    {
     "name": "stderr",
     "output_type": "stream",
     "text": [
      "/Users/ruthangus/anaconda/lib/python3.5/site-packages/pandas/core/indexing.py:194: SettingWithCopyWarning: \n",
      "A value is trying to be set on a copy of a slice from a DataFrame\n",
      "\n",
      "See the caveats in the documentation: http://pandas.pydata.org/pandas-docs/stable/indexing.html#indexing-view-versus-copy\n",
      "  self._setitem_with_indexer(indexer, value)\n"
     ]
    },
    {
     "name": "stdout",
     "output_type": "stream",
     "text": [
      "1 of 66\n",
      "2 of 66\n",
      "3 of 66\n",
      "4 of 66\n",
      "5 of 66\n",
      "6 of 66\n",
      "7 of 66\n",
      "8 of 66\n",
      "9 of 66\n",
      "10 of 66\n",
      "11 of 66\n",
      "12 of 66\n",
      "13 of 66\n",
      "14 of 66\n",
      "15 of 66\n",
      "16 of 66\n",
      "17 of 66\n",
      "18 of 66\n",
      "19 of 66\n",
      "20 of 66\n",
      "21 of 66\n",
      "22 of 66\n",
      "23 of 66\n",
      "24 of 66\n",
      "25 of 66\n",
      "26 of 66\n",
      "27 of 66\n",
      "28 of 66\n",
      "29 of 66\n",
      "30 of 66\n",
      "31 of 66\n",
      "32 of 66\n",
      "33 of 66\n",
      "34 of 66\n",
      "35 of 66\n",
      "36 of 66\n",
      "37 of 66\n",
      "38 of 66\n",
      "39 of 66\n",
      "40 of 66\n",
      "41 of 66\n",
      "42 of 66\n",
      "43 of 66\n",
      "44 of 66\n",
      "45 of 66\n",
      "46 of 66\n",
      "47 of 66\n",
      "48 of 66\n",
      "49 of 66\n",
      "50 of 66\n",
      "51 of 66\n",
      "52 of 66\n",
      "53 of 66\n",
      "54 of 66\n",
      "55 of 66\n",
      "56 of 66\n",
      "57 of 66\n",
      "58 of 66\n",
      "59 of 66\n",
      "60 of 66\n",
      "61 of 66\n",
      "62 of 66\n",
      "63 of 66\n",
      "64 of 66\n",
      "65 of 66\n"
     ]
    }
   ],
   "source": [
    "chaplin[\"sa_teff\"] = np.ones(nstar)*np.nan\n",
    "chaplin[\"sa_teff_err\"] = np.ones(nstar)*np.nan\n",
    "sa[\"sa_teff\"] = sa.teff\n",
    "sa[\"sa_teff_err\"] = sa.teff_err\n",
    "\n",
    "for i, kepid in enumerate(sa.kepid.values):\n",
    "    m = kepid == chaplin.kepid.values\n",
    "    print(i, \"of\", len(sa.kepid.values))\n",
    "    for key in chaplin.keys():\n",
    "        try:\n",
    "            chaplin[\"{}\".format(key)].iloc[m] = sa[\"{}\".format(key)].iloc[i]\n",
    "        except:\n",
    "            pass"
   ]
  },
  {
   "cell_type": "code",
   "execution_count": 9,
   "metadata": {
    "collapsed": false
   },
   "outputs": [
    {
     "data": {
      "text/plain": [
       "(4500, 7500)"
      ]
     },
     "execution_count": 9,
     "metadata": {},
     "output_type": "execute_result"
    },
    {
     "data": {
      "image/png": "[encoded data removed]",
      "text/plain": [
       "<matplotlib.figure.Figure at 0x108047208>"
      ]
     },
     "metadata": {},
     "output_type": "display_data"
    }
   ],
   "source": [
    "plt.plot(chaplin.sdss_teff, chaplin.sa_teff, \".\")\n",
    "plt.xlim(4500, 7500)"
   ]
  },
  {
   "cell_type": "markdown",
   "metadata": {},
   "source": [
    "Merge the Chaplin/Bruntt/Silva-Aguirre tables with the ASPCAP table to make comparison plots."
   ]
  },
  {
   "cell_type": "code",
   "execution_count": 10,
   "metadata": {
    "collapsed": false
   },
   "outputs": [
    {
     "data": {
      "text/plain": [
       "Index(['kepid', 'teff', 'teff_err', 'M_H', 'M_H_err', 'rad', 'rad_errp',\n",
       "       'rad_errm', 'rad_sys_err', 'mass', 'mass_errp', 'mass_errm',\n",
       "       'mass_sys_err', 'logg', 'logg_errp', 'logg_errm', 'logg_sys_err', 'rho',\n",
       "       'rho_errp', 'rho_errm', 'rho_sys_err', 'age', 'age_errp', 'age_errm',\n",
       "       'age_sys_err'],\n",
       "      dtype='object')"
      ]
     },
     "execution_count": 10,
     "metadata": {},
     "output_type": "execute_result"
    }
   ],
   "source": [
    "aspcap = pd.read_csv(\"data/apokasc_table5.txt\", skiprows=42)\n",
    "aspcap.keys()"
   ]
  },
  {
   "cell_type": "markdown",
   "metadata": {},
   "source": [
    "Merge tables"
   ]
  },
  {
   "cell_type": "code",
   "execution_count": 11,
   "metadata": {
    "collapsed": false
   },
   "outputs": [
    {
     "data": {
      "text/plain": [
       "Index(['kepid', 'teff_aspcap', 'teff_err_aspcap', 'M_H', 'M_H_err', 'rad',\n",
       "       'rad_errp', 'rad_errm', 'rad_sys_err', 'mass_aspcap',\n",
       "       'mass_errp_aspcap', 'mass_errm_aspcap', 'mass_sys_err', 'logg_aspcap',\n",
       "       'logg_errp_aspcap', 'logg_errm_aspcap', 'logg_sys_err', 'rho_aspcap',\n",
       "       'rho_errp_aspcap', 'rho_errm_aspcap', 'rho_sys_err', 'age_aspcap',\n",
       "       'age_errp_aspcap', 'age_errm_aspcap', 'age_sys_err', 'mass_chaplin',\n",
       "       'mass_errp_chaplin', 'mass_errm_chaplin', 'radius', 'radius_errp',\n",
       "       'radius_errm', 'rho_chaplin', 'rho_errp_chaplin', 'rho_errm_chaplin',\n",
       "       'logg_chaplin', 'logg_errp_chaplin', 'logg_errm_chaplin', 'age_chaplin',\n",
       "       'age_errp_chaplin', 'age_errm_chaplin', 'numax', 'numax_err', 'dnu',\n",
       "       'dnu_err', 'sdss_teff', 'sdss_teff_err', 'irfm_teff', 'irfm_teff_err',\n",
       "       'feh', 'feh_err', 'teff_chaplin', 'teff_err_chaplin', 'bruntt_teff',\n",
       "       'bruntt_teff_err', 'sa_teff', 'sa_teff_err'],\n",
       "      dtype='object')"
      ]
     },
     "execution_count": 11,
     "metadata": {},
     "output_type": "execute_result"
    }
   ],
   "source": [
    "df = pd.merge(aspcap, chaplin, on=\"kepid\", how=\"outer\", suffixes=[\"_aspcap\", \"_chaplin\"])\n",
    "df.keys()"
   ]
  },
  {
   "cell_type": "code",
   "execution_count": 12,
   "metadata": {
    "collapsed": false
   },
   "outputs": [
    {
     "data": {
      "text/plain": [
       "(4500, 7500)"
      ]
     },
     "execution_count": 12,
     "metadata": {},
     "output_type": "execute_result"
    },
    {
     "data": {
      "image/png": "[encoded data removed]",
      "text/plain": [
       "<matplotlib.figure.Figure at 0x1080681d0>"
      ]
     },
     "metadata": {},
     "output_type": "display_data"
    }
   ],
   "source": [
    "plt.errorbar(df.teff_aspcap, df.teff_chaplin, xerr=df.teff_err_aspcap, yerr=df.teff_err_chaplin, fmt=\"k.\", alpha=.3)\n",
    "x = np.linspace(4500, 7500, 100)\n",
    "plt.plot(x, x, \"--\")\n",
    "plt.plot(x, x+200, \"--\")\n",
    "plt.xlabel(\"ASPCAP Teff\")\n",
    "plt.ylabel(\"Chaplin Teff\")\n",
    "plt.ylim(4500, 7500)"
   ]
  },
  {
   "cell_type": "code",
   "execution_count": 13,
   "metadata": {
    "collapsed": false
   },
   "outputs": [
    {
     "data": {
      "text/plain": [
       "(4500, 7500)"
      ]
     },
     "execution_count": 13,
     "metadata": {},
     "output_type": "execute_result"
    },
    {
     "data": {
      "image/png": "[encoded data removed]",
      "text/plain": [
       "<matplotlib.figure.Figure at 0x1034ffa58>"
      ]
     },
     "metadata": {},
     "output_type": "display_data"
    }
   ],
   "source": [
    "plt.errorbar(df.teff_aspcap, df.irfm_teff, xerr=df.teff_err_aspcap, yerr=df.irfm_teff_err, fmt=\"k.\", alpha=.3)\n",
    "x = np.linspace(4500, 7500, 100)\n",
    "plt.plot(x, x, \"--\")\n",
    "plt.plot(x, x+200, \"--\")\n",
    "plt.xlabel(\"ASPCAP Teff\")\n",
    "plt.ylabel(\"Chaplin Teff\")\n",
    "plt.ylim(4500, 7500)"
   ]
  },
  {
   "cell_type": "markdown",
   "metadata": {},
   "source": [
    "Looks like a discrepancy in Teff of at least 100K."
   ]
  },
  {
   "cell_type": "code",
   "execution_count": 14,
   "metadata": {
    "collapsed": false
   },
   "outputs": [
    {
     "data": {
      "image/png": "[encoded data removed]",
      "text/plain": [
       "<matplotlib.figure.Figure at 0x1035039e8>"
      ]
     },
     "metadata": {},
     "output_type": "display_data"
    }
   ],
   "source": [
    "plt.hist(df.teff_err_chaplin.values[np.isfinite(df.teff_err_chaplin.values)], 100);\n",
    "plt.hist(df.teff_err_aspcap[np.isfinite(df.teff_err_aspcap.values)], color=\"orange\");"
   ]
  },
  {
   "cell_type": "code",
   "execution_count": 15,
   "metadata": {
    "collapsed": false
   },
   "outputs": [
    {
     "data": {
      "text/plain": [
       "Index(['kepid', 'teff_aspcap', 'teff_err_aspcap', 'M_H', 'M_H_err', 'rad',\n",
       "       'rad_errp', 'rad_errm', 'rad_sys_err', 'mass_aspcap',\n",
       "       'mass_errp_aspcap', 'mass_errm_aspcap', 'mass_sys_err', 'logg_aspcap',\n",
       "       'logg_errp_aspcap', 'logg_errm_aspcap', 'logg_sys_err', 'rho_aspcap',\n",
       "       'rho_errp_aspcap', 'rho_errm_aspcap', 'rho_sys_err', 'age_aspcap',\n",
       "       'age_errp_aspcap', 'age_errm_aspcap', 'age_sys_err', 'mass_chaplin',\n",
       "       'mass_errp_chaplin', 'mass_errm_chaplin', 'radius', 'radius_errp',\n",
       "       'radius_errm', 'rho_chaplin', 'rho_errp_chaplin', 'rho_errm_chaplin',\n",
       "       'logg_chaplin', 'logg_errp_chaplin', 'logg_errm_chaplin', 'age_chaplin',\n",
       "       'age_errp_chaplin', 'age_errm_chaplin', 'numax', 'numax_err', 'dnu',\n",
       "       'dnu_err', 'sdss_teff', 'sdss_teff_err', 'irfm_teff', 'irfm_teff_err',\n",
       "       'feh', 'feh_err', 'teff_chaplin', 'teff_err_chaplin', 'bruntt_teff',\n",
       "       'bruntt_teff_err', 'sa_teff', 'sa_teff_err'],\n",
       "      dtype='object')"
      ]
     },
     "execution_count": 15,
     "metadata": {},
     "output_type": "execute_result"
    }
   ],
   "source": [
    "df.keys()"
   ]
  },
  {
   "cell_type": "code",
   "execution_count": 16,
   "metadata": {
    "collapsed": false
   },
   "outputs": [
    {
     "data": {
      "text/plain": [
       "Text(0,0.5,'Chaplin mass')"
      ]
     },
     "execution_count": 16,
     "metadata": {},
     "output_type": "execute_result"
    },
    {
     "data": {
      "image/png": "[encoded data removed]",
      "text/plain": [
       "<matplotlib.figure.Figure at 0x108264898>"
      ]
     },
     "metadata": {},
     "output_type": "display_data"
    }
   ],
   "source": [
    "plt.errorbar(df.mass_aspcap, df.mass_chaplin, xerr=df.mass_errp_aspcap, \n",
    "             yerr=df.mass_errp_chaplin, fmt=\"k.\", alpha=.2)\n",
    "x = np.linspace(.7, 1.9, 100)\n",
    "plt.plot(x, x, \"--\")\n",
    "plt.plot(x, x+.1, \"--\")\n",
    "plt.xlabel(\"ASPCAP mass\")\n",
    "plt.ylabel(\"Chaplin mass\")"
   ]
  },
  {
   "cell_type": "markdown",
   "metadata": {},
   "source": [
    "Systematically off by about .1 Solar masses."
   ]
  },
  {
   "cell_type": "code",
   "execution_count": 17,
   "metadata": {
    "collapsed": true
   },
   "outputs": [],
   "source": [
    "df.to_csv(\"combined_astero_catalogue.csv\")"
   ]
  },
  {
   "cell_type": "code",
   "execution_count": 18,
   "metadata": {
    "collapsed": false
   },
   "outputs": [
    {
     "data": {
      "text/plain": [
       "Index(['kepid', 'teff_aspcap', 'teff_err_aspcap', 'M_H', 'M_H_err', 'rad',\n",
       "       'rad_errp', 'rad_errm', 'rad_sys_err', 'mass_aspcap',\n",
       "       'mass_errp_aspcap', 'mass_errm_aspcap', 'mass_sys_err', 'logg_aspcap',\n",
       "       'logg_errp_aspcap', 'logg_errm_aspcap', 'logg_sys_err', 'rho_aspcap',\n",
       "       'rho_errp_aspcap', 'rho_errm_aspcap', 'rho_sys_err', 'age_aspcap',\n",
       "       'age_errp_aspcap', 'age_errm_aspcap', 'age_sys_err', 'mass_chaplin',\n",
       "       'mass_errp_chaplin', 'mass_errm_chaplin', 'radius', 'radius_errp',\n",
       "       'radius_errm', 'rho_chaplin', 'rho_errp_chaplin', 'rho_errm_chaplin',\n",
       "       'logg_chaplin', 'logg_errp_chaplin', 'logg_errm_chaplin', 'age_chaplin',\n",
       "       'age_errp_chaplin', 'age_errm_chaplin', 'numax', 'numax_err', 'dnu',\n",
       "       'dnu_err', 'sdss_teff', 'sdss_teff_err', 'irfm_teff', 'irfm_teff_err',\n",
       "       'feh', 'feh_err', 'teff_chaplin', 'teff_err_chaplin', 'bruntt_teff',\n",
       "       'bruntt_teff_err', 'sa_teff', 'sa_teff_err'],\n",
       "      dtype='object')"
      ]
     },
     "execution_count": 18,
     "metadata": {},
     "output_type": "execute_result"
    }
   ],
   "source": [
    "df.keys()"
   ]
  },
  {
   "cell_type": "code",
   "execution_count": 19,
   "metadata": {
    "collapsed": false
   },
   "outputs": [
    {
     "data": {
      "text/plain": [
       "(525, 56)"
      ]
     },
     "execution_count": 19,
     "metadata": {},
     "output_type": "execute_result"
    }
   ],
   "source": [
    "np.shape(df)"
   ]
  },
  {
   "cell_type": "markdown",
   "metadata": {},
   "source": [
    "Download the light curves for these stars."
   ]
  },
  {
   "cell_type": "code",
   "execution_count": 20,
   "metadata": {
    "collapsed": true
   },
   "outputs": [],
   "source": [
    "#import kplr\n",
    "#client = kplr.API()\n",
    "\n",
    "#for kepid in df.kepid.values:\n",
    "#    star = client.star(kepid)\n",
    "#    star.get_light_curves(fetch=True, short_cadence=True)"
   ]
  },
  {
   "cell_type": "markdown",
   "metadata": {},
   "source": [
    "Make a dataframe containing just the labels I want to train on."
   ]
  },
  {
   "cell_type": "code",
   "execution_count": 21,
   "metadata": {
    "collapsed": false
   },
   "outputs": [],
   "source": [
    "training = pd.DataFrame(dict({\"kepid\": df.kepid, \"teff\": df.teff_chaplin, \"logg\": df.logg_chaplin, \"feh\": df.feh, \n",
    "                             \"dnu\": df.dnu, \"numax\": df.numax, \"mass\": df.mass_chaplin, \"radius\": df.radius,\n",
    "                             \"age\": df.age_chaplin}))"
   ]
  },
  {
   "cell_type": "code",
   "execution_count": 22,
   "metadata": {
    "collapsed": true
   },
   "outputs": [],
   "source": [
    "training.to_csv(\"training_labels.csv\")"
   ]
  },
  {
   "cell_type": "code",
   "execution_count": 23,
   "metadata": {
    "collapsed": false
   },
   "outputs": [],
   "source": [
    "kepids = pd.DataFrame(dict({\"kepid\": df.kepid}))\n",
    "kepids.to_csv(\"kepids.csv\")"
   ]
  },
  {
   "cell_type": "code",
   "execution_count": null,
   "metadata": {
    "collapsed": true
   },
   "outputs": [],
   "source": []
  }
 ],
 "metadata": {
  "anaconda-cloud": {},
  "kernelspec": {
   "display_name": "Python [conda root]",
   "language": "python",
   "name": "conda-root-py"
  },
  "language_info": {
   "codemirror_mode": {
    "name": "ipython",
    "version": 3
   },
   "file_extension": ".py",
   "mimetype": "text/x-python",
   "name": "python",
   "nbconvert_exporter": "python",
   "pygments_lexer": "ipython3",
   "version": "3.5.2"
  }
 },
 "nbformat": 4,
 "nbformat_minor": 1
}
